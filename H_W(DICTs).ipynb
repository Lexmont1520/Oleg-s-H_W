{
 "cells": [
  {
   "cell_type": "markdown",
   "metadata": {},
   "source": [
    "### Два слова называются синонимами друг друга, если они имеют похожие значения. \n",
    "\n",
    "#### Реализуйте следующие операции над словарём синонимов:\n",
    "\n",
    "- ADD word1 word2 — добавить в словарь пару синонимов (word1, word2).\n",
    "- COUNT word — узнать количество синонимов слова word.\n",
    "- CHECK word1 word2 — проверить, являются ли слова word1 и word2 синонимами. \n",
    "\n",
    "Слова word1 и word2 считаются синонимами, если среди запросов ADD был хотя бы один запрос ADD word1 word2 или ADD word2 word1.\n",
    "\n",
    "\n",
    "\n",
    "#### Ввод:\n",
    "Сначала вводится количество запросов Q, затем Q строк с описаниями запросов. \n",
    "\n",
    "Гарантируется, что в каждом запросе CHECK и ADD слова word1 и word2 различны. \n",
    "\n",
    "Гарантируется, что вводимые строки не пустые\n",
    "\n",
    "#### Вывод:\n",
    "Для каждого запроса в соответствующей строке выведите ответ на него:\n",
    "- В ответ на запрос COUNT word выведите единственное целое число — количество синонимов слова word.\n",
    "- В ответ на запрос CHECK word1 word2 выведите строку YES, если word1 и word2 являются синонимами, и NO в противном случае.\n",
    "\n",
    "Обратите внимание на то, что после операций вида :\n",
    "- ADD Alexa Amazon\n",
    "- ADD alexa amaZON\n",
    "\n",
    "Количество синонимов не увеличивается, т.к. это одни и те же слова, только в разных регистрах (слово, СлОвО и СЛОВО - эквивалентны)\n",
    "\n",
    "### Тесты:\n",
    "#### Input:\n",
    "<pre>\n",
    "8\n",
    "ADD program code\n",
    "COUNT cipher\n",
    "ADD code cipher\n",
    "COUNT code\n",
    "COUNT program\n",
    "CHECK code program\n",
    "CHECK program cipher\n",
    "CHECK cpp java\n",
    "</pre>\n",
    "#### Output:\n",
    "<pre>\n",
    "0\n",
    "2\n",
    "1\n",
    "YES\n",
    "NO\n",
    "NO\n",
    "</pre>"
   ]
  },
  {
   "cell_type": "code",
   "execution_count": null,
   "metadata": {},
   "outputs": [],
   "source": []
  },
  {
   "cell_type": "code",
   "execution_count": 71,
   "metadata": {},
   "outputs": [
    {
     "name": "stdout",
     "output_type": "stream",
     "text": [
      "Введите количество строк для ввода команд:8\n",
      "Введите команду:\n",
      "        ADD word1 word2 — добавить в словарь пару синонимов (word1, word2)\n",
      "        COUNT word — узнать количество синонимов слова word\n",
      "        CHECK word1 word2 — проверить, являются ли слова word1 и word2 синонимами\n",
      "ADD program code\n",
      "COUNT cipher\n",
      "0\n",
      "ADD code cipher\n",
      "COUNT code\n",
      "2\n",
      "COUNT program\n",
      "1\n",
      "CHECK code program\n",
      "YES\n",
      "CHECK program cipher\n",
      "NO\n",
      "CHECK cpp java\n",
      "NO\n"
     ]
    }
   ],
   "source": [
    "d={} # Создаем пустой словарь. Можно так: d = dict()\n",
    "n=0  # Начальное значение счетчика\n",
    "\n",
    "Q = int(input('Введите количество строк для ввода команд:'))\n",
    "print('Введите команду:\\n\\\n",
    "        ADD word1 word2 — добавить в словарь пару синонимов (word1, word2)\\n\\\n",
    "        COUNT word — узнать количество синонимов слова word\\n\\\n",
    "        CHECK word1 word2 — проверить, являются ли слова word1 и word2 синонимами')\n",
    "\n",
    "while n < Q:\n",
    "    # Форматируем строку в нижний регистр и создаем список ['add', 'word1', 'word2']\n",
    "    # По условию, \"СлОвО\" и \"СЛОВО\" - эквивалентны, поэтому переводим все слова в нижний регистр lower()\n",
    "    # Т.е не важно в каком регистре мы введем \"СлОво\", оно всегда будет \"слово\"\n",
    "    input_str = input().lower().split()\n",
    "    command = input_str[0] # Выделяем команду (ADD, COUNT, CHECK)\n",
    "    \n",
    "    if command == 'add': # ADD word1 word2\n",
    "        key, val = input_str[1], input_str[2] # Это word1 и word2\n",
    "        d[key] = val # Пишем в словарь key -> value\n",
    "    \n",
    "    elif command == 'count': # COUNT word1\n",
    "        word = input_str[1]\n",
    "        cnt = 0 # Счетчик синонимов\n",
    "        for key, value in d.items(): # Получаем из словоря (key, value)\n",
    "            if word == value:\n",
    "                cnt +=1\n",
    "            if word == key:\n",
    "                cnt +=1\n",
    "        print(cnt) # Выводим кол-во количество синонимов\n",
    "        \n",
    "    elif command == 'check': # CHECK word1 word2\n",
    "        word = [input_str[1], input_str[2]] # это word1 word2\n",
    "        flag = 'NO' # Флаг по умолчаню NO\n",
    "        for key, value in d.items():\n",
    "            if [key, value] == word or [value, key] == word: # Сравниваем построчно\n",
    "                flag = \"YES\"\n",
    "        print(flag)\n",
    "        \n",
    "    else:\n",
    "        print('Ошибка ввода')\n",
    "    \n",
    "    n +=1 # Увеличиваем счетчик на каждом шаге на 1"
   ]
  },
  {
   "cell_type": "code",
   "execution_count": 72,
   "metadata": {},
   "outputs": [
    {
     "name": "stdout",
     "output_type": "stream",
     "text": [
      "Наш заполненный словарь:\n",
      " {'program': 'code', 'code': 'cipher'}\n"
     ]
    }
   ],
   "source": [
    "print(\"Наш заполненный словарь:\\n\", d)"
   ]
  },
  {
   "cell_type": "code",
   "execution_count": 73,
   "metadata": {},
   "outputs": [
    {
     "name": "stdout",
     "output_type": "stream",
     "text": [
      "Ключи в словаре:\n",
      " dict_keys(['program', 'code'])\n"
     ]
    }
   ],
   "source": [
    "print(\"Ключи в словаре:\\n\", d.keys())"
   ]
  },
  {
   "cell_type": "code",
   "execution_count": 74,
   "metadata": {},
   "outputs": [
    {
     "name": "stdout",
     "output_type": "stream",
     "text": [
      "Значения в словаре:\n",
      " dict_values(['code', 'cipher'])\n"
     ]
    }
   ],
   "source": [
    "print(\"Значения в словаре:\\n\", d.values())"
   ]
  },
  {
   "cell_type": "code",
   "execution_count": 75,
   "metadata": {},
   "outputs": [
    {
     "name": "stdout",
     "output_type": "stream",
     "text": [
      "Пары в словаре:\n",
      " dict_items([('program', 'code'), ('code', 'cipher')])\n"
     ]
    }
   ],
   "source": [
    "print(\"Пары в словаре:\\n\", d.items())"
   ]
  },
  {
   "cell_type": "code",
   "execution_count": null,
   "metadata": {},
   "outputs": [],
   "source": [
    "\n"
   ]
  }
 ],
 "metadata": {
  "kernelspec": {
   "display_name": "Python 3",
   "language": "python",
   "name": "python3"
  },
  "language_info": {
   "codemirror_mode": {
    "name": "ipython",
    "version": 3
   },
   "file_extension": ".py",
   "mimetype": "text/x-python",
   "name": "python",
   "nbconvert_exporter": "python",
   "pygments_lexer": "ipython3",
   "version": "3.7.1"
  }
 },
 "nbformat": 4,
 "nbformat_minor": 2
}
