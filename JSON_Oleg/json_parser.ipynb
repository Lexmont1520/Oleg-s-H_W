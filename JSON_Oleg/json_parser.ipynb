{
 "cells": [
  {
   "cell_type": "code",
   "execution_count": 1,
   "metadata": {},
   "outputs": [],
   "source": [
    "import os\n",
    "import bz2\n",
    "import json\n",
    "import string\n",
    "\n",
    "outDir = 'JsonFolder'\n",
    "pattern = '.bz2'\n",
    "bad_word = ['the', 'to', 'a', 'of', 'and', 'is', 'i', 'that', 'it', 'in', 'you', 'for', 'this', 'not', 'be', \n",
    "            'are', 'on', 'but', 'have', 'with', 'as', 'if', 'they', 'its', 'or', 'was', 'just', 'what', 'at',\n",
    "            'an', 'so', 'can', 'all', 'from', 'do', 'dont', 'my', 'by', 'your', 'their', 'no', 'he', 'will', \n",
    "            'how', 'up', 'has', 'we', 'who', 'than', 'when', 'im', 'me', 'which']\n"
   ]
  },
  {
   "cell_type": "code",
   "execution_count": 2,
   "metadata": {},
   "outputs": [],
   "source": [
    "def readReddit(reddit_file):\n",
    "    '''\n",
    "        Функция для парсинга JSON файлов.\n",
    "        Возвращает список списков из слов: \n",
    "        [['word','word1'],['word2','word3','word4'],......['wordN','wordN+1']]\n",
    "        А так же удаляет пунктуацию, \"плохие\" слова, приводит весь текст к нижнему регистру.\n",
    "    '''\n",
    "    del_punct = lambda x: ''.join([i for i in x if i not in string.punctuation]) \n",
    "    \n",
    "    with open(reddit_file) as f:\n",
    "        jsonFile = [json.loads(line) for line in f]\n",
    "        result = []\n",
    "        for bodyText in jsonFile:\n",
    "            if bodyText['body'] != '[deleted]':\n",
    "                txt = bodyText['body']\n",
    "                txt = del_punct(txt) \n",
    "                txt = ' '.join([i for i in txt.lower().split() if i not in bad_word])\n",
    "                result.append(txt.split())\n",
    "        return result"
   ]
  },
  {
   "cell_type": "code",
   "execution_count": 3,
   "metadata": {},
   "outputs": [
    {
     "name": "stdout",
     "output_type": "stream",
     "text": [
      "Распаковываем RC_2005-12.bz2 в JsonFolder/RC_2005-12\n",
      "Распаковываем RC_2006-04.bz2 в JsonFolder/RC_2006-04\n",
      "Распаковываем RC_2006-01.bz2 в JsonFolder/RC_2006-01\n",
      "Распаковываем RC_2006-02.bz2 в JsonFolder/RC_2006-02\n",
      "Распаковываем RC_2006-03.bz2 в JsonFolder/RC_2006-03\n",
      "Распаковка завершена\n"
     ]
    }
   ],
   "source": [
    "for filename in os.listdir(\"./\"): # Читаем в текущей папке список файлов\n",
    "    if filename.endswith(pattern): # Ищем только файлы соответствующие pattern\n",
    "        filepath = os.path.join(outDir,filename[:-4]) # Путь к папке с именем разархивированного файла\n",
    "        print(\"Распаковываем {} в {}\".format(filename, filepath))\n",
    "        zipfile = bz2.BZ2File(filename) # Открываем архив\n",
    "        data = zipfile.read() # получаем распакованные данные\n",
    "        open(filepath, 'wb').write(data) # Записываем распакованные данные в файл\n",
    "        \n",
    "        # Создаем список слов из всех файлов по очередно\n",
    "        wordlist=[]\n",
    "        for i in readReddit(filepath):\n",
    "            wordlist = wordlist + i\n",
    "print('Распаковка завершена')"
   ]
  },
  {
   "cell_type": "code",
   "execution_count": 4,
   "metadata": {},
   "outputs": [
    {
     "data": {
      "text/plain": [
       "287172"
      ]
     },
     "execution_count": 4,
     "metadata": {},
     "output_type": "execute_result"
    }
   ],
   "source": [
    "len(wordlist)"
   ]
  },
  {
   "cell_type": "code",
   "execution_count": 5,
   "metadata": {},
   "outputs": [
    {
     "name": "stdout",
     "output_type": "stream",
     "text": [
      "TOP20:\n",
      " [('about', 1880), ('like', 1861), ('people', 1838), ('would', 1688), ('more', 1585), ('there', 1506), ('one', 1470), ('think', 1448), ('some', 1268), ('out', 1065), ('get', 1051), ('because', 1051), ('good', 1018), ('them', 998), ('other', 895), ('really', 884), ('much', 880), ('even', 868), ('only', 842), ('article', 842)]\n",
      "\n",
      "Всего уникальных слов в словаре: 31361\n"
     ]
    }
   ],
   "source": [
    "d = dict.fromkeys(wordlist, 0)\n",
    "\n",
    "for count in wordlist:\n",
    "    d[count] += 1\n",
    "\n",
    "# Сортируем словарь по значению и по убыванию\n",
    "sorted_by_value = sorted(d.items(), key=lambda x: (x[1],x[0]), reverse=True)\n",
    "\n",
    "print('TOP20:\\n',sorted_by_value[0:20])\n",
    "print('\\nВсего уникальных слов в словаре:', len(sorted_by_value))"
   ]
  },
  {
   "cell_type": "code",
   "execution_count": 6,
   "metadata": {},
   "outputs": [],
   "source": [
    "# Запись в файл\n",
    "with open('top20.json', 'w') as outfile:  \n",
    "    json.dump(sorted_by_value[0:20], outfile)"
   ]
  },
  {
   "cell_type": "code",
   "execution_count": 7,
   "metadata": {},
   "outputs": [
    {
     "name": "stdout",
     "output_type": "stream",
     "text": [
      "[['about', 1880], ['like', 1861], ['people', 1838], ['would', 1688], ['more', 1585], ['there', 1506], ['one', 1470], ['think', 1448], ['some', 1268], ['out', 1065], ['get', 1051], ['because', 1051], ['good', 1018], ['them', 998], ['other', 895], ['really', 884], ['much', 880], ['even', 868], ['only', 842], ['article', 842]]\n"
     ]
    }
   ],
   "source": [
    "# Проверяем записанный файл\n",
    "with open('top20.json') as json_file:\n",
    "    data = json.load(json_file)\n",
    "print(data)"
   ]
  },
  {
   "cell_type": "code",
   "execution_count": null,
   "metadata": {},
   "outputs": [],
   "source": []
  }
 ],
 "metadata": {
  "kernelspec": {
   "display_name": "Python 3",
   "language": "python",
   "name": "python3"
  },
  "language_info": {
   "codemirror_mode": {
    "name": "ipython",
    "version": 3
   },
   "file_extension": ".py",
   "mimetype": "text/x-python",
   "name": "python",
   "nbconvert_exporter": "python",
   "pygments_lexer": "ipython3",
   "version": "3.7.1"
  }
 },
 "nbformat": 4,
 "nbformat_minor": 2
}
