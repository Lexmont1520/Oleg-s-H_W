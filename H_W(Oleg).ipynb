{
 "cells": [
  {
   "cell_type": "code",
   "execution_count": 1,
   "metadata": {},
   "outputs": [
    {
     "name": "stdout",
     "output_type": "stream",
     "text": [
      "Enter a number: 23\n",
      "Enter a number: 423\n",
      "Enter a number: 54\n",
      "Enter a number: 5\n",
      "Enter a number: 34\n",
      "Enter a number: 5\n",
      "Enter a number: done\n",
      "544.0 6 90.66666666666667\n"
     ]
    }
   ],
   "source": [
    "count = 0      ####without try & except\n",
    "total = 0\n",
    "while True:\n",
    "    number = input('Enter a number: ')\n",
    "    if number == 'done': \n",
    "        break\n",
    "    number = float(number)\n",
    "    count = count + 1 \n",
    "    total = total + number\n",
    "    \n",
    "\n",
    "print('Total: ', total)\n",
    "print('Count: ', count)\n",
    "print('Average: ', total/count)\t"
   ]
  },
  {
   "cell_type": "code",
   "execution_count": 2,
   "metadata": {},
   "outputs": [
    {
     "name": "stdout",
     "output_type": "stream",
     "text": [
      "Enter a number: 234\n",
      "Enter a number: 2342\n",
      "Enter a number: 34\n",
      "Enter a number: 23\n",
      "Enter a number: 5\n",
      "Enter a number: 43\n",
      "Enter a number: 53\n",
      "Enter a number: 45\n",
      "Enter a number: done\n",
      "2779.0 8 347.375\n"
     ]
    }
   ],
   "source": [
    "sum = 0  ##consists try & exept\n",
    "count = 0\n",
    "average = 0\n",
    "\n",
    "while True:\n",
    "  try:\n",
    "    x = input(\"Enter a number: \")\n",
    "    if (x == \"done\"): \n",
    "     break\n",
    "    y = float(x)\n",
    "    sum = y + sum\n",
    "    count += 1 ##count = count + 1\n",
    "    average = sum / count\n",
    "  except:\n",
    "    print(\"Invalid input.\")\n",
    "print (sum, count, average)\n"
   ]
  },
  {
   "cell_type": "code",
   "execution_count": 3,
   "metadata": {},
   "outputs": [
    {
     "name": "stdout",
     "output_type": "stream",
     "text": [
      "A = 234\n",
      "B = 53\n",
      "C = 45\n",
      "Нет решений.\n",
      "D = -39311.0\n"
     ]
    }
   ],
   "source": [
    "import math    #quadratic equation ##папа помог с math библиотекой, но можно было тупо возводить в 1/2 степень \n",
    "A = float(input(\"A = \"))\n",
    "B = float(input(\"B = \"))\n",
    "C = float(input(\"C = \"))\n",
    "\n",
    "if A == 0:\n",
    "    print(\"Ошибка, A = 0. Деление на 0!\")\n",
    "else:\n",
    "    D = B**2 - 4*A*C # Дискриминант\n",
    "    if D < 0:\n",
    "        print(\"Нет решений.\\nD = {}\".format(D))\n",
    "    elif D > 0:\n",
    "        X1 = (-B + math.sqrt(D)) / (2*A)\n",
    "        X2 = (-B - math.sqrt(D)) / (2*A)\n",
    "        print(\"Два решения.\\nD = {}\\nX1 = {}, X2 = {}\".format(D,X1,X2))\n",
    "    else: \n",
    "        D = 0\n",
    "        X1 = -B / (2*A)\n",
    "        print(\"Одно решение.\\nD = {}\\nX1 = {}\".format(D,X1))\n",
    "\n"
   ]
  },
  {
   "cell_type": "code",
   "execution_count": 5,
   "metadata": {},
   "outputs": [
    {
     "name": "stdout",
     "output_type": "stream",
     "text": [
      "a = 45\n",
      "b = 34\n",
      "НОД - наибольший общий делитель: 1\n"
     ]
    }
   ],
   "source": [
    "a = int(input(\"a = \"))   ###НОД, its possible with - instead of %\n",
    "b = int(input(\"b = \"))\n",
    "x = a * b\n",
    "while a != 0 and b != 0:\n",
    "    if a > b:\n",
    "        a = a % b\n",
    "    else:\n",
    "        b = b % a\n",
    "\n",
    "nod = a + b\n",
    "print(\"НОД - наибольший общий делитель:\", nod)"
   ]
  },
  {
   "cell_type": "code",
   "execution_count": null,
   "metadata": {},
   "outputs": [],
   "source": []
  }
 ],
 "metadata": {
  "kernelspec": {
   "display_name": "Python 3",
   "language": "python",
   "name": "python3"
  },
  "language_info": {
   "codemirror_mode": {
    "name": "ipython",
    "version": 3
   },
   "file_extension": ".py",
   "mimetype": "text/x-python",
   "name": "python",
   "nbconvert_exporter": "python",
   "pygments_lexer": "ipython3",
   "version": "3.7.1"
  }
 },
 "nbformat": 4,
 "nbformat_minor": 2
}
